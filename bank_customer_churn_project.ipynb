{
 "cells": [
  {
   "cell_type": "markdown",
   "metadata": {},
   "source": [
    "# Customer churn"
   ]
  },
  {
   "cell_type": "markdown",
   "metadata": {},
   "source": [
    "Customers began to leave Bank \"N\". Every month. By a little, but noticeable. Banking marketers figured it was cheaper to keep current customers than to attract new ones.\n",
    "\n",
    "We need to predict whether the client will leave the bank in the near future or not. We have been provided with historical data on customer behavior and termination of agreements with the bank.\n",
    "\n",
    "We're going to use F1 as an estimator. To call the model successful we need to get at least 0.59 on a test sample."
   ]
  },
  {
   "cell_type": "markdown",
   "metadata": {},
   "source": [
    "## Introduction\n",
    "\n",
    "We are faced with the task of predicting the outflow of customers from the bank. We have been provided with a file containing data on the behavior of customers and the fact of their termination or no agreement with the bank. We will study the available data, if necessary, we will do preprocessing and create a model that will help predict the client's churn."
   ]
  },
  {
   "cell_type": "markdown",
   "metadata": {},
   "source": [
    "## Data preparation"
   ]
  },
  {
   "cell_type": "markdown",
   "metadata": {},
   "source": [
    "**Importing of necessary libraries**"
   ]
  },
  {
   "cell_type": "code",
   "execution_count": 1,
   "metadata": {},
   "outputs": [],
   "source": [
    "import pandas as pd\n",
    "import numpy as np\n",
    "import matplotlib.pyplot as plt\n",
    "\n",
    "from sklearn.model_selection import train_test_split, GridSearchCV\n",
    "from sklearn.preprocessing import StandardScaler\n",
    "from sklearn.utils import shuffle\n",
    "\n",
    "from sklearn.dummy import DummyClassifier\n",
    "from sklearn.linear_model import LogisticRegression \n",
    "from sklearn.tree import DecisionTreeClassifier\n",
    "from sklearn.ensemble import RandomForestClassifier\n",
    "\n",
    "from sklearn.metrics import accuracy_score,precision_score, recall_score, f1_score, confusion_matrix, roc_auc_score, roc_curve"
   ]
  },
  {
   "cell_type": "markdown",
   "metadata": {},
   "source": [
    "**Reading of the files**"
   ]
  },
  {
   "cell_type": "code",
   "execution_count": 2,
   "metadata": {},
   "outputs": [],
   "source": [
    "data = pd.read_csv('Churn.csv')"
   ]
  },
  {
   "cell_type": "markdown",
   "metadata": {},
   "source": [
    "**Basic information about the dataframe**"
   ]
  },
  {
   "cell_type": "code",
   "execution_count": 3,
   "metadata": {},
   "outputs": [
    {
     "name": "stdout",
     "output_type": "stream",
     "text": [
      "<class 'pandas.core.frame.DataFrame'>\n",
      "RangeIndex: 10000 entries, 0 to 9999\n",
      "Data columns (total 14 columns):\n",
      " #   Column           Non-Null Count  Dtype  \n",
      "---  ------           --------------  -----  \n",
      " 0   RowNumber        10000 non-null  int64  \n",
      " 1   CustomerId       10000 non-null  int64  \n",
      " 2   Surname          10000 non-null  object \n",
      " 3   CreditScore      10000 non-null  int64  \n",
      " 4   Geography        10000 non-null  object \n",
      " 5   Gender           10000 non-null  object \n",
      " 6   Age              10000 non-null  int64  \n",
      " 7   Tenure           9091 non-null   float64\n",
      " 8   Balance          10000 non-null  float64\n",
      " 9   NumOfProducts    10000 non-null  int64  \n",
      " 10  HasCrCard        10000 non-null  int64  \n",
      " 11  IsActiveMember   10000 non-null  int64  \n",
      " 12  EstimatedSalary  10000 non-null  float64\n",
      " 13  Exited           10000 non-null  int64  \n",
      "dtypes: float64(3), int64(8), object(3)\n",
      "memory usage: 1.1+ MB\n"
     ]
    }
   ],
   "source": [
    "data.info()"
   ]
  },
  {
   "cell_type": "code",
   "execution_count": 4,
   "metadata": {},
   "outputs": [
    {
     "data": {
      "text/html": [
       "<div>\n",
       "<style scoped>\n",
       "    .dataframe tbody tr th:only-of-type {\n",
       "        vertical-align: middle;\n",
       "    }\n",
       "\n",
       "    .dataframe tbody tr th {\n",
       "        vertical-align: top;\n",
       "    }\n",
       "\n",
       "    .dataframe thead th {\n",
       "        text-align: right;\n",
       "    }\n",
       "</style>\n",
       "<table border=\"1\" class=\"dataframe\">\n",
       "  <thead>\n",
       "    <tr style=\"text-align: right;\">\n",
       "      <th></th>\n",
       "      <th>RowNumber</th>\n",
       "      <th>CustomerId</th>\n",
       "      <th>Surname</th>\n",
       "      <th>CreditScore</th>\n",
       "      <th>Geography</th>\n",
       "      <th>Gender</th>\n",
       "      <th>Age</th>\n",
       "      <th>Tenure</th>\n",
       "      <th>Balance</th>\n",
       "      <th>NumOfProducts</th>\n",
       "      <th>HasCrCard</th>\n",
       "      <th>IsActiveMember</th>\n",
       "      <th>EstimatedSalary</th>\n",
       "      <th>Exited</th>\n",
       "    </tr>\n",
       "  </thead>\n",
       "  <tbody>\n",
       "    <tr>\n",
       "      <th>0</th>\n",
       "      <td>1</td>\n",
       "      <td>15634602</td>\n",
       "      <td>Hargrave</td>\n",
       "      <td>619</td>\n",
       "      <td>France</td>\n",
       "      <td>Female</td>\n",
       "      <td>42</td>\n",
       "      <td>2.0</td>\n",
       "      <td>0.00</td>\n",
       "      <td>1</td>\n",
       "      <td>1</td>\n",
       "      <td>1</td>\n",
       "      <td>101348.88</td>\n",
       "      <td>1</td>\n",
       "    </tr>\n",
       "    <tr>\n",
       "      <th>1</th>\n",
       "      <td>2</td>\n",
       "      <td>15647311</td>\n",
       "      <td>Hill</td>\n",
       "      <td>608</td>\n",
       "      <td>Spain</td>\n",
       "      <td>Female</td>\n",
       "      <td>41</td>\n",
       "      <td>1.0</td>\n",
       "      <td>83807.86</td>\n",
       "      <td>1</td>\n",
       "      <td>0</td>\n",
       "      <td>1</td>\n",
       "      <td>112542.58</td>\n",
       "      <td>0</td>\n",
       "    </tr>\n",
       "    <tr>\n",
       "      <th>2</th>\n",
       "      <td>3</td>\n",
       "      <td>15619304</td>\n",
       "      <td>Onio</td>\n",
       "      <td>502</td>\n",
       "      <td>France</td>\n",
       "      <td>Female</td>\n",
       "      <td>42</td>\n",
       "      <td>8.0</td>\n",
       "      <td>159660.80</td>\n",
       "      <td>3</td>\n",
       "      <td>1</td>\n",
       "      <td>0</td>\n",
       "      <td>113931.57</td>\n",
       "      <td>1</td>\n",
       "    </tr>\n",
       "    <tr>\n",
       "      <th>3</th>\n",
       "      <td>4</td>\n",
       "      <td>15701354</td>\n",
       "      <td>Boni</td>\n",
       "      <td>699</td>\n",
       "      <td>France</td>\n",
       "      <td>Female</td>\n",
       "      <td>39</td>\n",
       "      <td>1.0</td>\n",
       "      <td>0.00</td>\n",
       "      <td>2</td>\n",
       "      <td>0</td>\n",
       "      <td>0</td>\n",
       "      <td>93826.63</td>\n",
       "      <td>0</td>\n",
       "    </tr>\n",
       "    <tr>\n",
       "      <th>4</th>\n",
       "      <td>5</td>\n",
       "      <td>15737888</td>\n",
       "      <td>Mitchell</td>\n",
       "      <td>850</td>\n",
       "      <td>Spain</td>\n",
       "      <td>Female</td>\n",
       "      <td>43</td>\n",
       "      <td>2.0</td>\n",
       "      <td>125510.82</td>\n",
       "      <td>1</td>\n",
       "      <td>1</td>\n",
       "      <td>1</td>\n",
       "      <td>79084.10</td>\n",
       "      <td>0</td>\n",
       "    </tr>\n",
       "    <tr>\n",
       "      <th>5</th>\n",
       "      <td>6</td>\n",
       "      <td>15574012</td>\n",
       "      <td>Chu</td>\n",
       "      <td>645</td>\n",
       "      <td>Spain</td>\n",
       "      <td>Male</td>\n",
       "      <td>44</td>\n",
       "      <td>8.0</td>\n",
       "      <td>113755.78</td>\n",
       "      <td>2</td>\n",
       "      <td>1</td>\n",
       "      <td>0</td>\n",
       "      <td>149756.71</td>\n",
       "      <td>1</td>\n",
       "    </tr>\n",
       "    <tr>\n",
       "      <th>6</th>\n",
       "      <td>7</td>\n",
       "      <td>15592531</td>\n",
       "      <td>Bartlett</td>\n",
       "      <td>822</td>\n",
       "      <td>France</td>\n",
       "      <td>Male</td>\n",
       "      <td>50</td>\n",
       "      <td>7.0</td>\n",
       "      <td>0.00</td>\n",
       "      <td>2</td>\n",
       "      <td>1</td>\n",
       "      <td>1</td>\n",
       "      <td>10062.80</td>\n",
       "      <td>0</td>\n",
       "    </tr>\n",
       "    <tr>\n",
       "      <th>7</th>\n",
       "      <td>8</td>\n",
       "      <td>15656148</td>\n",
       "      <td>Obinna</td>\n",
       "      <td>376</td>\n",
       "      <td>Germany</td>\n",
       "      <td>Female</td>\n",
       "      <td>29</td>\n",
       "      <td>4.0</td>\n",
       "      <td>115046.74</td>\n",
       "      <td>4</td>\n",
       "      <td>1</td>\n",
       "      <td>0</td>\n",
       "      <td>119346.88</td>\n",
       "      <td>1</td>\n",
       "    </tr>\n",
       "    <tr>\n",
       "      <th>8</th>\n",
       "      <td>9</td>\n",
       "      <td>15792365</td>\n",
       "      <td>He</td>\n",
       "      <td>501</td>\n",
       "      <td>France</td>\n",
       "      <td>Male</td>\n",
       "      <td>44</td>\n",
       "      <td>4.0</td>\n",
       "      <td>142051.07</td>\n",
       "      <td>2</td>\n",
       "      <td>0</td>\n",
       "      <td>1</td>\n",
       "      <td>74940.50</td>\n",
       "      <td>0</td>\n",
       "    </tr>\n",
       "    <tr>\n",
       "      <th>9</th>\n",
       "      <td>10</td>\n",
       "      <td>15592389</td>\n",
       "      <td>H?</td>\n",
       "      <td>684</td>\n",
       "      <td>France</td>\n",
       "      <td>Male</td>\n",
       "      <td>27</td>\n",
       "      <td>2.0</td>\n",
       "      <td>134603.88</td>\n",
       "      <td>1</td>\n",
       "      <td>1</td>\n",
       "      <td>1</td>\n",
       "      <td>71725.73</td>\n",
       "      <td>0</td>\n",
       "    </tr>\n",
       "  </tbody>\n",
       "</table>\n",
       "</div>"
      ],
      "text/plain": [
       "   RowNumber  CustomerId   Surname  CreditScore Geography  Gender  Age  \\\n",
       "0          1    15634602  Hargrave          619    France  Female   42   \n",
       "1          2    15647311      Hill          608     Spain  Female   41   \n",
       "2          3    15619304      Onio          502    France  Female   42   \n",
       "3          4    15701354      Boni          699    France  Female   39   \n",
       "4          5    15737888  Mitchell          850     Spain  Female   43   \n",
       "5          6    15574012       Chu          645     Spain    Male   44   \n",
       "6          7    15592531  Bartlett          822    France    Male   50   \n",
       "7          8    15656148    Obinna          376   Germany  Female   29   \n",
       "8          9    15792365        He          501    France    Male   44   \n",
       "9         10    15592389        H?          684    France    Male   27   \n",
       "\n",
       "   Tenure    Balance  NumOfProducts  HasCrCard  IsActiveMember  \\\n",
       "0     2.0       0.00              1          1               1   \n",
       "1     1.0   83807.86              1          0               1   \n",
       "2     8.0  159660.80              3          1               0   \n",
       "3     1.0       0.00              2          0               0   \n",
       "4     2.0  125510.82              1          1               1   \n",
       "5     8.0  113755.78              2          1               0   \n",
       "6     7.0       0.00              2          1               1   \n",
       "7     4.0  115046.74              4          1               0   \n",
       "8     4.0  142051.07              2          0               1   \n",
       "9     2.0  134603.88              1          1               1   \n",
       "\n",
       "   EstimatedSalary  Exited  \n",
       "0        101348.88       1  \n",
       "1        112542.58       0  \n",
       "2        113931.57       1  \n",
       "3         93826.63       0  \n",
       "4         79084.10       0  \n",
       "5        149756.71       1  \n",
       "6         10062.80       0  \n",
       "7        119346.88       1  \n",
       "8         74940.50       0  \n",
       "9         71725.73       0  "
      ]
     },
     "execution_count": 4,
     "metadata": {},
     "output_type": "execute_result"
    }
   ],
   "source": [
    "data.head(10)"
   ]
  },
  {
   "cell_type": "code",
   "execution_count": 5,
   "metadata": {},
   "outputs": [
    {
     "name": "stdout",
     "output_type": "stream",
     "text": [
      "0    0.7963\n",
      "1    0.2037\n",
      "Name: Exited, dtype: float64\n"
     ]
    },
    {
     "data": {
      "image/png": "[encoded data removed]",
      "text/plain": [
       "<Figure size 432x288 with 1 Axes>"
      ]
     },
     "metadata": {
      "needs_background": "light"
     },
     "output_type": "display_data"
    }
   ],
   "source": [
    "class_frequency = data['Exited'].value_counts(normalize=True)\n",
    "print(class_frequency)\n",
    "class_frequency.plot(kind='bar');"
   ]
  },
  {
   "cell_type": "markdown",
   "metadata": {},
   "source": [
    "The data contains 10000 strings (customers). There are 14 columns. One column, `Tenure` has missed data, we'll take a look at it. The `Exited` column is the target, checked for imbalance, the data in it is not balanced 80/20. 80% are not lost customers.\n",
    "\n",
    "**Missed data**"
   ]
  },
  {
   "cell_type": "code",
   "execution_count": 6,
   "metadata": {},
   "outputs": [
    {
     "data": {
      "text/plain": [
       "RowNumber            0\n",
       "CustomerId           0\n",
       "Surname              0\n",
       "CreditScore          0\n",
       "Geography            0\n",
       "Gender               0\n",
       "Age                  0\n",
       "Tenure             909\n",
       "Balance              0\n",
       "NumOfProducts        0\n",
       "HasCrCard            0\n",
       "IsActiveMember       0\n",
       "EstimatedSalary      0\n",
       "Exited               0\n",
       "dtype: int64"
      ]
     },
     "execution_count": 6,
     "metadata": {},
     "output_type": "execute_result"
    }
   ],
   "source": [
    "data.isna().sum()"
   ]
  },
  {
   "cell_type": "code",
   "execution_count": 7,
   "metadata": {},
   "outputs": [
    {
     "data": {
      "text/plain": [
       "array([ 0.,  1.,  2.,  3.,  4.,  5.,  6.,  7.,  8.,  9., 10., nan])"
      ]
     },
     "execution_count": 7,
     "metadata": {},
     "output_type": "execute_result"
    }
   ],
   "source": [
    "data['Tenure'].sort_values().unique()"
   ]
  },
  {
   "cell_type": "code",
   "execution_count": 8,
   "metadata": {},
   "outputs": [
    {
     "data": {
      "text/plain": [
       "1.0     952\n",
       "2.0     950\n",
       "8.0     933\n",
       "3.0     928\n",
       "5.0     927\n",
       "7.0     925\n",
       "4.0     885\n",
       "9.0     882\n",
       "6.0     881\n",
       "10.0    446\n",
       "0.0     382\n",
       "Name: Tenure, dtype: int64"
      ]
     },
     "execution_count": 8,
     "metadata": {},
     "output_type": "execute_result"
    }
   ],
   "source": [
    "data['Tenure'].value_counts()"
   ]
  },
  {
   "cell_type": "code",
   "execution_count": 9,
   "metadata": {},
   "outputs": [
    {
     "data": {
      "image/png": "[encoded data removed]",
      "text/plain": [
       "<Figure size 432x288 with 1 Axes>"
      ]
     },
     "metadata": {
      "needs_background": "light"
     },
     "output_type": "display_data"
    }
   ],
   "source": [
    "data['Tenure'].hist();"
   ]
  },
  {
   "cell_type": "markdown",
   "metadata": {},
   "source": [
    "There are 909 gaps in the `Tenure` column. The column contains integer values from 0 to 10. In the range 2-9, the number of values is approximately the same, about 900 rows. 0 and 10 have fewer values, 382 and 446 respectively.\n",
    "\n",
    "This column shows how many years the user has been a client of the bank. We can assume that the missing values are 0 years, but if our assumption is not correct, then by doing this we will distort the original data for the model. We can either leave gaps or remove them, this is about 9% of the original amount. We will remove the gaps, 9% is certainly not small, but not critical either."
   ]
  },
  {
   "cell_type": "code",
   "execution_count": 10,
   "metadata": {},
   "outputs": [],
   "source": [
    "data = data.dropna(subset=['Tenure']).reset_index(drop=True)"
   ]
  },
  {
   "cell_type": "code",
   "execution_count": 11,
   "metadata": {
    "scrolled": true
   },
   "outputs": [
    {
     "data": {
      "text/plain": [
       "RowNumber          0\n",
       "CustomerId         0\n",
       "Surname            0\n",
       "CreditScore        0\n",
       "Geography          0\n",
       "Gender             0\n",
       "Age                0\n",
       "Tenure             0\n",
       "Balance            0\n",
       "NumOfProducts      0\n",
       "HasCrCard          0\n",
       "IsActiveMember     0\n",
       "EstimatedSalary    0\n",
       "Exited             0\n",
       "dtype: int64"
      ]
     },
     "execution_count": 11,
     "metadata": {},
     "output_type": "execute_result"
    }
   ],
   "source": [
    "data.isna().sum()"
   ]
  },
  {
   "cell_type": "markdown",
   "metadata": {},
   "source": [
    "**Removing unnecessary data**\n",
    "\n",
    "We don't need columns `RowNumber`, `CustomerId`, `Surname`, we'll remove it."
   ]
  },
  {
   "cell_type": "code",
   "execution_count": 12,
   "metadata": {},
   "outputs": [],
   "source": [
    "data = data.drop(['RowNumber','CustomerId','Surname'], axis=1).reset_index(drop=True)"
   ]
  },
  {
   "cell_type": "markdown",
   "metadata": {},
   "source": [
    "**Splitting data into samples**\n",
    "\n",
    "The target contains the `Exited` column as two values (0 - the client has not left and 1 - the client has left). All other columns will be used as features.\n",
    "\n",
    "We are faced with the task of classification, the data contains both categorical features and numerical. With the help of One Hot Encoding (**OHE**) we will transform all categorical into numerical ones."
   ]
  },
  {
   "cell_type": "code",
   "execution_count": 13,
   "metadata": {},
   "outputs": [],
   "source": [
    "data_ohe = pd.get_dummies(data, drop_first=True)"
   ]
  },
  {
   "cell_type": "code",
   "execution_count": 14,
   "metadata": {},
   "outputs": [
    {
     "data": {
      "text/plain": [
       "(9091, 12)"
      ]
     },
     "execution_count": 14,
     "metadata": {},
     "output_type": "execute_result"
    }
   ],
   "source": [
    "data_ohe.shape"
   ]
  },
  {
   "cell_type": "code",
   "execution_count": 15,
   "metadata": {},
   "outputs": [
    {
     "data": {
      "text/html": [
       "<div>\n",
       "<style scoped>\n",
       "    .dataframe tbody tr th:only-of-type {\n",
       "        vertical-align: middle;\n",
       "    }\n",
       "\n",
       "    .dataframe tbody tr th {\n",
       "        vertical-align: top;\n",
       "    }\n",
       "\n",
       "    .dataframe thead th {\n",
       "        text-align: right;\n",
       "    }\n",
       "</style>\n",
       "<table border=\"1\" class=\"dataframe\">\n",
       "  <thead>\n",
       "    <tr style=\"text-align: right;\">\n",
       "      <th></th>\n",
       "      <th>CreditScore</th>\n",
       "      <th>Age</th>\n",
       "      <th>Tenure</th>\n",
       "      <th>Balance</th>\n",
       "      <th>NumOfProducts</th>\n",
       "      <th>HasCrCard</th>\n",
       "      <th>IsActiveMember</th>\n",
       "      <th>EstimatedSalary</th>\n",
       "      <th>Exited</th>\n",
       "      <th>Geography_Germany</th>\n",
       "      <th>Geography_Spain</th>\n",
       "      <th>Gender_Male</th>\n",
       "    </tr>\n",
       "  </thead>\n",
       "  <tbody>\n",
       "    <tr>\n",
       "      <th>0</th>\n",
       "      <td>619</td>\n",
       "      <td>42</td>\n",
       "      <td>2.0</td>\n",
       "      <td>0.00</td>\n",
       "      <td>1</td>\n",
       "      <td>1</td>\n",
       "      <td>1</td>\n",
       "      <td>101348.88</td>\n",
       "      <td>1</td>\n",
       "      <td>0</td>\n",
       "      <td>0</td>\n",
       "      <td>0</td>\n",
       "    </tr>\n",
       "    <tr>\n",
       "      <th>1</th>\n",
       "      <td>608</td>\n",
       "      <td>41</td>\n",
       "      <td>1.0</td>\n",
       "      <td>83807.86</td>\n",
       "      <td>1</td>\n",
       "      <td>0</td>\n",
       "      <td>1</td>\n",
       "      <td>112542.58</td>\n",
       "      <td>0</td>\n",
       "      <td>0</td>\n",
       "      <td>1</td>\n",
       "      <td>0</td>\n",
       "    </tr>\n",
       "    <tr>\n",
       "      <th>2</th>\n",
       "      <td>502</td>\n",
       "      <td>42</td>\n",
       "      <td>8.0</td>\n",
       "      <td>159660.80</td>\n",
       "      <td>3</td>\n",
       "      <td>1</td>\n",
       "      <td>0</td>\n",
       "      <td>113931.57</td>\n",
       "      <td>1</td>\n",
       "      <td>0</td>\n",
       "      <td>0</td>\n",
       "      <td>0</td>\n",
       "    </tr>\n",
       "    <tr>\n",
       "      <th>3</th>\n",
       "      <td>699</td>\n",
       "      <td>39</td>\n",
       "      <td>1.0</td>\n",
       "      <td>0.00</td>\n",
       "      <td>2</td>\n",
       "      <td>0</td>\n",
       "      <td>0</td>\n",
       "      <td>93826.63</td>\n",
       "      <td>0</td>\n",
       "      <td>0</td>\n",
       "      <td>0</td>\n",
       "      <td>0</td>\n",
       "    </tr>\n",
       "    <tr>\n",
       "      <th>4</th>\n",
       "      <td>850</td>\n",
       "      <td>43</td>\n",
       "      <td>2.0</td>\n",
       "      <td>125510.82</td>\n",
       "      <td>1</td>\n",
       "      <td>1</td>\n",
       "      <td>1</td>\n",
       "      <td>79084.10</td>\n",
       "      <td>0</td>\n",
       "      <td>0</td>\n",
       "      <td>1</td>\n",
       "      <td>0</td>\n",
       "    </tr>\n",
       "  </tbody>\n",
       "</table>\n",
       "</div>"
      ],
      "text/plain": [
       "   CreditScore  Age  Tenure    Balance  NumOfProducts  HasCrCard  \\\n",
       "0          619   42     2.0       0.00              1          1   \n",
       "1          608   41     1.0   83807.86              1          0   \n",
       "2          502   42     8.0  159660.80              3          1   \n",
       "3          699   39     1.0       0.00              2          0   \n",
       "4          850   43     2.0  125510.82              1          1   \n",
       "\n",
       "   IsActiveMember  EstimatedSalary  Exited  Geography_Germany  \\\n",
       "0               1        101348.88       1                  0   \n",
       "1               1        112542.58       0                  0   \n",
       "2               0        113931.57       1                  0   \n",
       "3               0         93826.63       0                  0   \n",
       "4               1         79084.10       0                  0   \n",
       "\n",
       "   Geography_Spain  Gender_Male  \n",
       "0                0            0  \n",
       "1                1            0  \n",
       "2                0            0  \n",
       "3                0            0  \n",
       "4                1            0  "
      ]
     },
     "execution_count": 15,
     "metadata": {},
     "output_type": "execute_result"
    }
   ],
   "source": [
    "data_ohe.head()"
   ]
  },
  {
   "cell_type": "code",
   "execution_count": 16,
   "metadata": {},
   "outputs": [
    {
     "data": {
      "image/png": "[encoded data removed]",
      "text/plain": [
       "<Figure size 432x288 with 1 Axes>"
      ]
     },
     "metadata": {
      "needs_background": "light"
     },
     "output_type": "display_data"
    }
   ],
   "source": [
    "data.groupby('Gender')['Gender'].agg('count').plot(kind='bar');"
   ]
  },
  {
   "cell_type": "code",
   "execution_count": 17,
   "metadata": {},
   "outputs": [
    {
     "data": {
      "image/png": "[encoded data removed]",
      "text/plain": [
       "<Figure size 432x288 with 1 Axes>"
      ]
     },
     "metadata": {
      "needs_background": "light"
     },
     "output_type": "display_data"
    }
   ],
   "source": [
    "data.groupby('Geography')['Geography'].agg('count').plot(kind='bar');"
   ]
  },
  {
   "cell_type": "markdown",
   "metadata": {},
   "source": [
    "Instead of a column with the country of residence, we got two (Germany and Spain) in which the information about the country of residence is contained in binary form, if both columns are 0, then the country of residence is France.\n",
    "\n",
    "Now we have 12 columns, all features have become numerical."
   ]
  },
  {
   "cell_type": "code",
   "execution_count": 18,
   "metadata": {},
   "outputs": [],
   "source": [
    "features = data_ohe.drop('Exited', axis=1,)\n",
    "target = data_ohe['Exited']"
   ]
  },
  {
   "cell_type": "markdown",
   "metadata": {},
   "source": [
    "From the available data, we need to get three samples:\n",
    "\n",
    "- Training: for training the model.\n",
    "- Validation: with which we will check the model during the selection of hyperparameters.\n",
    "- Test: on which we will test the selected finished model.\n",
    "\n",
    "The division will be made in the ratio 3:1:1, 60% - training sample and 20% validation and test samples."
   ]
  },
  {
   "cell_type": "code",
   "execution_count": 19,
   "metadata": {},
   "outputs": [],
   "source": [
    "features_train, features_rest, target_train, target_rest = train_test_split(\n",
    "    features, target, train_size=0.6, random_state=12345, stratify=target)"
   ]
  },
  {
   "cell_type": "code",
   "execution_count": 20,
   "metadata": {},
   "outputs": [
    {
     "name": "stdout",
     "output_type": "stream",
     "text": [
      "(5454, 11)\n",
      "(3637, 11)\n",
      "(5454,)\n",
      "(3637,)\n"
     ]
    }
   ],
   "source": [
    "print(features_train.shape)\n",
    "print(features_rest.shape)\n",
    "print(target_train.shape)\n",
    "print(target_rest.shape)"
   ]
  },
  {
   "cell_type": "code",
   "execution_count": 21,
   "metadata": {},
   "outputs": [],
   "source": [
    "features_valid, features_test, target_valid, target_test = train_test_split(\n",
    "    features_rest, target_rest, test_size=0.5, random_state=12345, stratify=target_rest)"
   ]
  },
  {
   "cell_type": "code",
   "execution_count": 22,
   "metadata": {},
   "outputs": [
    {
     "name": "stdout",
     "output_type": "stream",
     "text": [
      "(1818, 11)\n",
      "(1819, 11)\n",
      "(1818,)\n",
      "(1819,)\n"
     ]
    }
   ],
   "source": [
    "print(features_valid.shape)\n",
    "print(features_test.shape)\n",
    "print(target_valid.shape)\n",
    "print(target_test.shape)"
   ]
  },
  {
   "cell_type": "code",
   "execution_count": 23,
   "metadata": {},
   "outputs": [],
   "source": [
    "features_train_val = pd.concat([features_train, features_valid])\n",
    "target_train_val = pd.concat([target_train, target_valid])"
   ]
  },
  {
   "cell_type": "code",
   "execution_count": 24,
   "metadata": {},
   "outputs": [
    {
     "name": "stdout",
     "output_type": "stream",
     "text": [
      "(7272, 11)\n",
      "(7272,)\n"
     ]
    }
   ],
   "source": [
    "print(features_train_val.shape)\n",
    "print(target_train_val.shape)"
   ]
  },
  {
   "cell_type": "markdown",
   "metadata": {},
   "source": [
    "Made a split, checked the dimensions - everything is correct. We got three samples, and also collected the fourth one by combining the training and validation samples. This sample is useful for selecting parameters using cross-validation\n",
    "\n",
    "**Standartization**\n",
    "\n",
    "Let's make standartization of the features to equalize their weight in the process of training the model."
   ]
  },
  {
   "cell_type": "code",
   "execution_count": 25,
   "metadata": {},
   "outputs": [],
   "source": [
    "numeric = ['CreditScore',\n",
    "           'Age',\n",
    "           'Tenure',\n",
    "           'Balance',\n",
    "           'NumOfProducts',\n",
    "           'HasCrCard',\n",
    "           'IsActiveMember',\n",
    "           'EstimatedSalary',\n",
    "          ]"
   ]
  },
  {
   "cell_type": "code",
   "execution_count": 26,
   "metadata": {},
   "outputs": [],
   "source": [
    "pd.options.mode.chained_assignment = None\n",
    "scaler = StandardScaler()\n",
    "scaler.fit(features_train[numeric])\n",
    "features_train[numeric] = scaler.transform(features_train[numeric])\n",
    "features_valid[numeric] = scaler.transform(features_valid[numeric])\n",
    "features_test[numeric] = scaler.transform(features_test[numeric])\n",
    "features_train_val[numeric] = scaler.transform(features_train_val[numeric])"
   ]
  },
  {
   "cell_type": "markdown",
   "metadata": {},
   "source": [
    "### Data preparation conclusions\n",
    "\n",
    "We studied the received data.\n",
    "- We found gaps in the data, we had to get rid of them because of the inability to correctly restore them.\n",
    "- There is an imbalance of the target in the data - 80%/20%. In the future, we will create models both taking into account this imbalance and not.\n",
    "- Removed unnecessary columns for training a model - `RowNumber`, `CustomerId`, `Surname`.\n",
    "- Converted all categorical features to numerical ones using One Hot Encoding (OHE).\n",
    "- Divided the data into samples in the ratio 3:1:1 (60%/20%/20%):\n",
    " - Training - for training the model (60%).\n",
    " - Validation - to test the model during training and help in choosing hyperparameters (20%).\n",
    " - Test - on which we will test our finished model (20%).\n",
    " - We also made a sample for the selection and training of the model using cross-validation, for this technique a separate validation sample is not needed, so we combined the training and validation samples.\n",
    "- Made standartization of features to equalize their weight."
   ]
  },
  {
   "cell_type": "markdown",
   "metadata": {},
   "source": [
    "## Models research"
   ]
  },
  {
   "cell_type": "markdown",
   "metadata": {},
   "source": [
    "Prepared data for the model. For now, the imbalance of the target has been ignored. Let's see what results we can achieve in this way, and then work on balancing."
   ]
  },
  {
   "cell_type": "markdown",
   "metadata": {},
   "source": [
    "### \"Dummy\" model\n",
    "\n",
    "First, let's look at a dummy model that will ignore incoming features, instead, the prediction will be made randomly. We'll specify 'the strategy' hyperparameter as 'most_frequent', now the model will always give as an answer the most frequently encountered target in the learning process."
   ]
  },
  {
   "cell_type": "code",
   "execution_count": 27,
   "metadata": {},
   "outputs": [
    {
     "name": "stdout",
     "output_type": "stream",
     "text": [
      "Training sample: 0.7961129446277961\n",
      "Validation sample: 0.7959295929592959\n",
      "F1: 0.0\n",
      "Confusion matrix:\n",
      "[[1447    0]\n",
      " [ 371    0]]\n"
     ]
    }
   ],
   "source": [
    "dummy = DummyClassifier(random_state=12345, strategy=\"most_frequent\")\n",
    "dummy.fit(features_train, target_train)\n",
    "dummy_predicted_train = dummy.predict(features_train)\n",
    "dummy_predicted_valid = dummy.predict(features_valid)\n",
    "\n",
    "print('Training sample:', dummy.score(features_train, target_train))\n",
    "print('Validation sample:', dummy.score(features_valid, target_valid))\n",
    "print('F1:', f1_score(target_valid, dummy_predicted_valid))\n",
    "print('Confusion matrix:')\n",
    "print(confusion_matrix(target_valid, dummy_predicted_valid))"
   ]
  },
  {
   "cell_type": "markdown",
   "metadata": {},
   "source": [
    "This model showed an accuracy of 0.80 which is expected due to data imbalance."
   ]
  },
  {
   "cell_type": "markdown",
   "metadata": {},
   "source": [
    "### Logistic Regression"
   ]
  },
  {
   "cell_type": "markdown",
   "metadata": {},
   "source": [
    "Let's see what results the logistic regression will show."
   ]
  },
  {
   "cell_type": "code",
   "execution_count": 28,
   "metadata": {},
   "outputs": [
    {
     "name": "stdout",
     "output_type": "stream",
     "text": [
      "Accuracy on validation sample: 0.7095709570957096\n",
      "F1 on validation sample: 0.5065420560747663 \n",
      "\n",
      "Confusion matrix:\n",
      "[[1019  428]\n",
      " [ 100  271]]\n"
     ]
    },
    {
     "data": {
      "image/png": "[encoded data removed]",
      "text/plain": [
       "<Figure size 432x432 with 1 Axes>"
      ]
     },
     "metadata": {
      "needs_background": "light"
     },
     "output_type": "display_data"
    },
    {
     "name": "stdout",
     "output_type": "stream",
     "text": [
      "AUC-ROC on validation sample: 0.7907260490614472\n"
     ]
    }
   ],
   "source": [
    "logreg_model = LogisticRegression(solver='liblinear', random_state=12345, class_weight='balanced')\n",
    "logreg_model.fit(features_train, target_train)\n",
    "logreg_predicted_valid = logreg_model.predict(features_valid)\n",
    "\n",
    "probabilities_valid = logreg_model.predict_proba(features_valid)\n",
    "probabilities_one_valid = probabilities_valid[:, 1]\n",
    "\n",
    "fpr, tpr, thresholds = roc_curve(target_valid, probabilities_one_valid)\n",
    "auc_roc_valid = roc_auc_score(target_valid, probabilities_one_valid)\n",
    "\n",
    "print('Accuracy on validation sample:', logreg_model.score(features_valid, target_valid))\n",
    "print('F1 on validation sample:', f1_score(target_valid, logreg_predicted_valid), '\\n')\n",
    "print('Confusion matrix:' )\n",
    "print(confusion_matrix(target_valid, logreg_predicted_valid))\n",
    "\n",
    "plt.figure(figsize=(6,6))\n",
    "plt.plot(fpr, tpr)\n",
    "plt.xlim([0.0, 1.0])\n",
    "plt.ylim([0.0, 1.0])\n",
    "plt.xlabel('False Positive Rate')\n",
    "plt.ylabel('True Positive Rate')\n",
    "plt.title('ROC-curve')\n",
    "plt.show()\n",
    "\n",
    "print('AUC-ROC on validation sample:', auc_roc_valid)"
   ]
  },
  {
   "cell_type": "markdown",
   "metadata": {},
   "source": [
    "Logistic regression on the unbalanced validation sample showed the following results:\n",
    "\n",
    "- F1: **0.507**\n",
    "- AUC-ROC: **0.791**\n",
    "\n",
    "These results do not suit us, let's move on to the decision tree."
   ]
  },
  {
   "cell_type": "markdown",
   "metadata": {},
   "source": [
    "### Decision tree\n",
    "\n",
    "Let's select the best parameters for the decision tree using cycles."
   ]
  },
  {
   "cell_type": "code",
   "execution_count": 29,
   "metadata": {
    "scrolled": false
   },
   "outputs": [
    {
     "name": "stdout",
     "output_type": "stream",
     "text": [
      "The best model: DecisionTreeClassifier(max_depth=9, max_leaf_nodes=46, min_samples_leaf=10,\n",
      "                       random_state=12345) \n",
      "\n",
      "F1 of the best model on validation sample: 0.6094946401225114 \n",
      "\n",
      "Confusion matrix:\n",
      "[[1373   74]\n",
      " [ 207  164]]\n"
     ]
    },
    {
     "data": {
      "image/png": "[encoded data removed]",
      "text/plain": [
       "<Figure size 432x432 with 1 Axes>"
      ]
     },
     "metadata": {
      "needs_background": "light"
     },
     "output_type": "display_data"
    },
    {
     "name": "stdout",
     "output_type": "stream",
     "text": [
      "AUC-ROC on validation sample: 0.8306348109388882\n",
      "CPU times: total: 6min 18s\n",
      "Wall time: 6min 18s\n"
     ]
    }
   ],
   "source": [
    "%%time\n",
    "\n",
    "weights = ['balanced', None]\n",
    "\n",
    "dt_model = None\n",
    "dt_result = 0\n",
    "for depth in range(1, 21):\n",
    "    for leafs in range(2, 51):\n",
    "        for samp_leafs in range(1, 21):\n",
    "            for weight in weights:\n",
    "                model = DecisionTreeClassifier(random_state=12345,\n",
    "                                               class_weight=weight,\n",
    "                                               max_depth=depth,\n",
    "                                               max_leaf_nodes=leafs,\n",
    "                                               min_samples_leaf=samp_leafs)\n",
    "                model.fit(features_train, target_train)\n",
    "                predictions_valid = model.predict(features_valid)\n",
    "                result = f1_score(target_valid, predictions_valid)\n",
    "                if result > dt_result:\n",
    "                    dt_model = model\n",
    "                    dt_result = result\n",
    "\n",
    "probabilities_valid = dt_model.predict_proba(features_valid)\n",
    "probabilities_one_valid = probabilities_valid[:, 1]\n",
    "\n",
    "fpr, tpr, thresholds = roc_curve(target_valid, probabilities_one_valid)\n",
    "auc_roc_valid = roc_auc_score(target_valid, probabilities_one_valid)\n",
    "\n",
    "print(\"The best model:\", dt_model, '\\n')\n",
    "print(\"F1 of the best model on validation sample:\", dt_result, '\\n')\n",
    "print('Confusion matrix:')\n",
    "print(confusion_matrix(target_valid, predictions_valid))\n",
    "\n",
    "plt.figure(figsize=(6,6))\n",
    "plt.plot(fpr, tpr)\n",
    "plt.xlim([0.0, 1.0])\n",
    "plt.ylim([0.0, 1.0])\n",
    "plt.xlabel('False Positive Rate')\n",
    "plt.ylabel('True Positive Rate')\n",
    "plt.title('ROC-curve')\n",
    "plt.show()\n",
    "\n",
    "print('AUC-ROC on validation sample:', auc_roc_valid)"
   ]
  },
  {
   "cell_type": "markdown",
   "metadata": {},
   "source": [
    "Decision tree with the following parameters: max_depth=9, max_leaf_nodes=46, min_samples_leaf=10, random_state=12345) on the unbalanced validation sample showed the following results:\n",
    "\n",
    "- F1: **0.609**\n",
    "- AUC-ROC: **0.831**\n",
    "\n",
    "The results are already better than the logistic regression. Let's move on to the random forest."
   ]
  },
  {
   "cell_type": "markdown",
   "metadata": {},
   "source": [
    "### Random forest\n",
    "\n",
    "Let's select the best parameters for a random forest using cycles."
   ]
  },
  {
   "cell_type": "code",
   "execution_count": 30,
   "metadata": {},
   "outputs": [
    {
     "name": "stdout",
     "output_type": "stream",
     "text": [
      "The best model: RandomForestClassifier(class_weight='balanced', max_depth=9, n_estimators=230,\n",
      "                       random_state=12345)\n",
      "\n",
      "F1 of the best model on validation sample: 0.6555697823303457\n",
      "\n",
      "Confusion matrix:\n",
      "[[1394   53]\n",
      " [ 191  180]]\n"
     ]
    },
    {
     "data": {
      "image/png": "[encoded data removed]",
      "text/plain": [
       "<Figure size 432x432 with 1 Axes>"
      ]
     },
     "metadata": {
      "needs_background": "light"
     },
     "output_type": "display_data"
    },
    {
     "name": "stdout",
     "output_type": "stream",
     "text": [
      "AUC-ROC on validation sample: 0.8770259874039978\n",
      "CPU times: total: 6min 41s\n",
      "Wall time: 6min 41s\n"
     ]
    }
   ],
   "source": [
    "%%time\n",
    "\n",
    "weights = ['balanced', None]\n",
    "\n",
    "rf_model = None\n",
    "rf_result = 0\n",
    "for est in range(100, 251, 10):\n",
    "    for depth in range(1, 41, 2):\n",
    "        for weight in weights:\n",
    "            model = RandomForestClassifier(random_state=12345,\n",
    "                                           class_weight=weight,\n",
    "                                           n_estimators=est,\n",
    "                                           max_depth=depth)\n",
    "            model.fit(features_train, target_train)\n",
    "            predicted_valid = model.predict(features_valid)\n",
    "            result = f1_score(target_valid, predicted_valid)\n",
    "            if result > rf_result:\n",
    "                rf_model = model\n",
    "                rf_result = result\n",
    "\n",
    "probabilities_valid = rf_model.predict_proba(features_valid)\n",
    "probabilities_one_valid = probabilities_valid[:, 1]\n",
    "\n",
    "fpr, tpr, thresholds = roc_curve(target_valid, probabilities_one_valid)\n",
    "auc_roc_valid = roc_auc_score(target_valid, probabilities_one_valid)\n",
    "\n",
    "print(\"The best model:\", rf_model)\n",
    "print('')\n",
    "print(\"F1 of the best model on validation sample:\", rf_result)\n",
    "print('')\n",
    "print('Confusion matrix:')\n",
    "print(confusion_matrix(target_valid, predicted_valid))\n",
    "\n",
    "plt.figure(figsize=(6,6))\n",
    "plt.plot(fpr, tpr)\n",
    "plt.xlim([0.0, 1.0])\n",
    "plt.ylim([0.0, 1.0])\n",
    "plt.xlabel('False Positive Rate')\n",
    "plt.ylabel('True Positive Rate')\n",
    "plt.title('ROC-curve')\n",
    "plt.show()\n",
    "\n",
    "print('AUC-ROC on validation sample:', auc_roc_valid)"
   ]
  },
  {
   "cell_type": "markdown",
   "metadata": {},
   "source": [
    "Random forest with the following parameters: (class_weight='balanced', max_depth=9, n_estimators=230, random_state=12345) on the unbalanced validation sample showed the following results:\n",
    "\n",
    "- F1: **0.656**\n",
    "- AUC-ROC: **0.877**\n",
    "\n",
    "The results are much better than logistic regression and decision tree. We will use a random forest."
   ]
  },
  {
   "cell_type": "markdown",
   "metadata": {},
   "source": [
    "### Cross-validation\n",
    "\n",
    "Let's try to find hyperparameters for a random forest using GridSearchCV cross-validation."
   ]
  },
  {
   "cell_type": "code",
   "execution_count": 31,
   "metadata": {},
   "outputs": [],
   "source": [
    "n_estimators = []\n",
    "max_depth = []\n",
    "\n",
    "\n",
    "for est in range(100, 251, 10):\n",
    "    n_estimators.append(est)\n",
    "for depth in range(1, 21, 2):\n",
    "    max_depth.append(depth)"
   ]
  },
  {
   "cell_type": "code",
   "execution_count": 32,
   "metadata": {},
   "outputs": [],
   "source": [
    "rf = RandomForestClassifier()\n",
    "params = {\n",
    "    'random_state': [12345],\n",
    "    'class_weight':['balanced', None],\n",
    "    'n_estimators': n_estimators,\n",
    "    'max_depth': max_depth\n",
    "         }\n",
    "\n",
    "rf_clf = GridSearchCV(\n",
    "    estimator=rf,\n",
    "    param_grid=params,\n",
    "    cv=5,\n",
    "    scoring='f1'\n",
    ")"
   ]
  },
  {
   "cell_type": "code",
   "execution_count": 33,
   "metadata": {},
   "outputs": [
    {
     "name": "stdout",
     "output_type": "stream",
     "text": [
      "CPU times: total: 15min 9s\n",
      "Wall time: 15min 9s\n"
     ]
    },
    {
     "data": {
      "text/plain": [
       "GridSearchCV(cv=5, estimator=RandomForestClassifier(),\n",
       "             param_grid={'class_weight': ['balanced', None],\n",
       "                         'max_depth': [1, 3, 5, 7, 9, 11, 13, 15, 17, 19],\n",
       "                         'n_estimators': [100, 110, 120, 130, 140, 150, 160,\n",
       "                                          170, 180, 190, 200, 210, 220, 230,\n",
       "                                          240, 250],\n",
       "                         'random_state': [12345]},\n",
       "             scoring='f1')"
      ]
     },
     "execution_count": 33,
     "metadata": {},
     "output_type": "execute_result"
    }
   ],
   "source": [
    "%%time\n",
    "rf_clf.fit(features_train_val, target_train_val)"
   ]
  },
  {
   "cell_type": "code",
   "execution_count": 34,
   "metadata": {},
   "outputs": [
    {
     "name": "stdout",
     "output_type": "stream",
     "text": [
      "RandomForestClassifier(class_weight='balanced', max_depth=9, n_estimators=230,\n",
      "                       random_state=12345)\n",
      "F1 of the model: 0.6288849304871543\n"
     ]
    }
   ],
   "source": [
    "print(rf_clf.best_estimator_)\n",
    "print(\"F1 of the model:\", rf_clf.best_score_)"
   ]
  },
  {
   "cell_type": "markdown",
   "metadata": {},
   "source": [
    "With the help of cross-validation, we obtained the same parameters as in the case of iterating in cycles. Ranom forest (class_weight='balanced', max_depth=9, n_estimators=230, random_state=12345)."
   ]
  },
  {
   "cell_type": "markdown",
   "metadata": {},
   "source": [
    "### Model research conclusions\n",
    "\n",
    "The following models were tested on unbalanced data: Logistic Regression, Decision Tree, Random Forest. Random forest showed the best result. We also used cross-validation on a random forest and got similar results as without it.\n",
    "\n",
    "The best result on the validation sample at the moment: **F1 - 0.656, AUC-ROC: 0.877**. Let's try to work on balancing in order to improve the result."
   ]
  },
  {
   "cell_type": "markdown",
   "metadata": {},
   "source": [
    "## Dealing with imbalance\n",
    "\n",
    "Let's try several balancing methods, upsampling and downsampling."
   ]
  },
  {
   "cell_type": "markdown",
   "metadata": {},
   "source": [
    "### Upsampling\n",
    "\n",
    "With this method, we will increase the number of class in the sample that is underrepresented (1). Let's write the upsample function."
   ]
  },
  {
   "cell_type": "code",
   "execution_count": 35,
   "metadata": {},
   "outputs": [],
   "source": [
    "def upsample(features, target, repeat): # As arguments, the function will take: features, target and how many times to multiply 1 class\n",
    "    features_zeros = features[target == 0] # We'll mark features of class 0\n",
    "    features_ones = features[target == 1] # We'll mark features of class 1\n",
    "    target_zeros = target[target == 0] # We'll mark target of class 0\n",
    "    target_ones = target[target == 1] # We'll mark target of class 1\n",
    "\n",
    "    features_upsampled = pd.concat([features_zeros] + [features_ones] * repeat) # We multiply the features of class 1 and connect both classes\n",
    "    target_upsampled = pd.concat([target_zeros] + [target_ones] * repeat) # We multiply the target of class 1 and connect both classes\n",
    "    \n",
    "    features_upsampled, target_upsampled = shuffle(\n",
    "        features_upsampled, target_upsampled, random_state=12345) # Shuffle the data\n",
    "    \n",
    "    return features_upsampled, target_upsampled"
   ]
  },
  {
   "cell_type": "markdown",
   "metadata": {},
   "source": [
    "Let's apply the function for the test sample and look at the class balance."
   ]
  },
  {
   "cell_type": "code",
   "execution_count": 36,
   "metadata": {},
   "outputs": [
    {
     "data": {
      "text/plain": [
       "1    0.50603\n",
       "0    0.49397\n",
       "Name: Exited, dtype: float64"
      ]
     },
     "execution_count": 36,
     "metadata": {},
     "output_type": "execute_result"
    }
   ],
   "source": [
    "features_upsampled, target_upsampled = upsample(features_train, target_train, 4)\n",
    "target_upsampled.value_counts(normalize=True)"
   ]
  },
  {
   "cell_type": "code",
   "execution_count": 37,
   "metadata": {},
   "outputs": [
    {
     "data": {
      "text/plain": [
       "1    0.50603\n",
       "0    0.49397\n",
       "Name: Exited, dtype: float64"
      ]
     },
     "execution_count": 37,
     "metadata": {},
     "output_type": "execute_result"
    }
   ],
   "source": [
    "features_train_val_upsampled, target_train_val_upsampled = upsample(features_train_val, target_train_val, 4)\n",
    "target_upsampled.value_counts(normalize=True)"
   ]
  },
  {
   "cell_type": "markdown",
   "metadata": {},
   "source": [
    "Now both classes are represented equally."
   ]
  },
  {
   "cell_type": "markdown",
   "metadata": {},
   "source": [
    "On the upsampled test sample, we'll select the parameters for the random forest."
   ]
  },
  {
   "cell_type": "code",
   "execution_count": 38,
   "metadata": {
    "scrolled": false
   },
   "outputs": [
    {
     "name": "stdout",
     "output_type": "stream",
     "text": [
      "The best model: RandomForestClassifier(class_weight='balanced', max_depth=11, n_estimators=200,\n",
      "                       random_state=12345)\n",
      "\n",
      "F1 of the best model on validation sample: 0.6463104325699747\n",
      "\n",
      "Confusion matrix:\n",
      "[[1345  102]\n",
      " [ 154  217]]\n"
     ]
    },
    {
     "data": {
      "image/png": "[encoded data removed]",
      "text/plain": [
       "<Figure size 432x288 with 1 Axes>"
      ]
     },
     "metadata": {
      "needs_background": "light"
     },
     "output_type": "display_data"
    },
    {
     "name": "stdout",
     "output_type": "stream",
     "text": [
      "AUC-ROC on validation sample: 0.8727639860888874\n",
      "CPU times: total: 9min 39s\n",
      "Wall time: 9min 39s\n"
     ]
    }
   ],
   "source": [
    "%%time\n",
    "\n",
    "weights = ['balanced', None]\n",
    "\n",
    "rf_upsampled_model = None\n",
    "rf_upsampled_result = 0\n",
    "for est in range(100, 251, 10):\n",
    "    for depth in range(1, 41, 2):\n",
    "        for weight in weights:\n",
    "                model = RandomForestClassifier(random_state=12345,\n",
    "                                               class_weight=weight,\n",
    "                                               n_estimators=est,\n",
    "                                               max_depth=depth,)\n",
    "                model.fit(features_upsampled, target_upsampled)\n",
    "                predicted_valid = model.predict(features_valid)\n",
    "                result = f1_score(target_valid, predicted_valid)\n",
    "                if result > rf_upsampled_result:\n",
    "                    rf_upsampled_model = model\n",
    "                    rf_upsampled_result = result\n",
    "\n",
    "probabilities_valid = rf_upsampled_model.predict_proba(features_valid)\n",
    "probabilities_one_valid = probabilities_valid[:, 1]\n",
    "\n",
    "fpr, tpr, thresholds = roc_curve(target_valid, probabilities_one_valid)\n",
    "auc_roc_valid = roc_auc_score(target_valid, probabilities_one_valid)\n",
    "\n",
    "print(\"The best model:\", rf_upsampled_model)\n",
    "print('')\n",
    "print(\"F1 of the best model on validation sample:\", rf_upsampled_result)\n",
    "print('')\n",
    "print('Confusion matrix:')\n",
    "print(confusion_matrix(target_valid, predicted_valid))\n",
    "\n",
    "plt.figure()\n",
    "plt.plot(fpr, tpr)\n",
    "plt.xlim([0.0, 1.0])\n",
    "plt.ylim([0.0, 1.0])\n",
    "plt.xlabel('False Positive Rate')\n",
    "plt.ylabel('True Positive Rate')\n",
    "plt.title('ROC-curve')\n",
    "plt.show()\n",
    "\n",
    "print('AUC-ROC on validation sample:', auc_roc_valid)"
   ]
  },
  {
   "cell_type": "markdown",
   "metadata": {},
   "source": [
    "On a balanced by increasing the sample, it was not possible to achieve an improvement in the results on the validation sample.\n",
    "\n",
    "The model with the following parameters has the best result: (class_weight='balanced', max_depth=11, n_estimators=200, random_state=12345)\n",
    "\n",
    "- F1: **0.646**\n",
    "- AUC-ROC: **0.873**\n",
    "\n",
    "Now let's try to select parameters using GridSearchCV."
   ]
  },
  {
   "cell_type": "code",
   "execution_count": 39,
   "metadata": {},
   "outputs": [],
   "source": [
    "rf_upsampled_clf = GridSearchCV(\n",
    "    estimator=rf,\n",
    "    param_grid=params,\n",
    "    cv=5,\n",
    "    scoring='f1'\n",
    ")"
   ]
  },
  {
   "cell_type": "code",
   "execution_count": 40,
   "metadata": {},
   "outputs": [
    {
     "name": "stdout",
     "output_type": "stream",
     "text": [
      "CPU times: total: 22min 15s\n",
      "Wall time: 22min 16s\n"
     ]
    },
    {
     "data": {
      "text/plain": [
       "GridSearchCV(cv=5, estimator=RandomForestClassifier(),\n",
       "             param_grid={'class_weight': ['balanced', None],\n",
       "                         'max_depth': [1, 3, 5, 7, 9, 11, 13, 15, 17, 19],\n",
       "                         'n_estimators': [100, 110, 120, 130, 140, 150, 160,\n",
       "                                          170, 180, 190, 200, 210, 220, 230,\n",
       "                                          240, 250],\n",
       "                         'random_state': [12345]},\n",
       "             scoring='f1')"
      ]
     },
     "execution_count": 40,
     "metadata": {},
     "output_type": "execute_result"
    }
   ],
   "source": [
    "%%time\n",
    "rf_upsampled_clf.fit(features_train_val_upsampled, target_train_val_upsampled)"
   ]
  },
  {
   "cell_type": "code",
   "execution_count": 41,
   "metadata": {},
   "outputs": [
    {
     "name": "stdout",
     "output_type": "stream",
     "text": [
      "RandomForestClassifier(class_weight='balanced', max_depth=19, n_estimators=120,\n",
      "                       random_state=12345)\n",
      "F1 of the model: 0.9576759251596025\n"
     ]
    }
   ],
   "source": [
    "print(rf_upsampled_clf.best_estimator_)\n",
    "print(\"F1 of the model:\", rf_upsampled_clf.best_score_)"
   ]
  },
  {
   "cell_type": "markdown",
   "metadata": {},
   "source": [
    "On a balanced by increasing the sample, cross-validation managed to find hyperparameters on which we get the result **F1 - 0.958**"
   ]
  },
  {
   "cell_type": "markdown",
   "metadata": {},
   "source": [
    "### Downsampling\n",
    "\n",
    "We'll try to decrease the more represented class (0) in the sample. Let's write the downsample function."
   ]
  },
  {
   "cell_type": "code",
   "execution_count": 42,
   "metadata": {},
   "outputs": [],
   "source": [
    "def downsample(features, target, fraction): # As arguments, the function will take: features, target, and what percentage of class 0 to leave\n",
    "    features_zeros = features[target == 0] # # We'll mark features of class 0\n",
    "    features_ones = features[target == 1] # We'll mark features of class 1\n",
    "    target_zeros = target[target == 0] # We'll mark target of class 0\n",
    "    target_ones = target[target == 1] # We'll mark target of class 1\n",
    "\n",
    "    features_downsampled = pd.concat(\n",
    "        [features_zeros.sample(frac=fraction, random_state=12345)] + [features_ones]) # Using the pandas .sample method, we leave only the specified fraction of class 0, after that we connect both classes \n",
    "    target_downsampled = pd.concat(\n",
    "        [target_zeros.sample(frac=fraction, random_state=12345)] + [target_ones]) # Using the pandas .sample method, we leave only the specified fraction of class 0, after that we connect both classes\n",
    "    \n",
    "    features_downsampled, target_downsampled = shuffle(\n",
    "        features_downsampled, target_downsampled, random_state=12345) # Shuffle the data\n",
    "    \n",
    "    return features_downsampled, target_downsampled"
   ]
  },
  {
   "cell_type": "markdown",
   "metadata": {},
   "source": [
    "Let's apply the function for the test sample and look at the class balance."
   ]
  },
  {
   "cell_type": "code",
   "execution_count": 43,
   "metadata": {},
   "outputs": [
    {
     "data": {
      "text/plain": [
       "0    0.500898\n",
       "1    0.499102\n",
       "Name: Exited, dtype: float64"
      ]
     },
     "execution_count": 43,
     "metadata": {},
     "output_type": "execute_result"
    }
   ],
   "source": [
    "features_downsampled, target_downsampled = downsample(features_train, target_train, 0.257)\n",
    "target_downsampled.value_counts(normalize=True)"
   ]
  },
  {
   "cell_type": "code",
   "execution_count": 44,
   "metadata": {},
   "outputs": [
    {
     "data": {
      "text/plain": [
       "1    0.50603\n",
       "0    0.49397\n",
       "Name: Exited, dtype: float64"
      ]
     },
     "execution_count": 44,
     "metadata": {},
     "output_type": "execute_result"
    }
   ],
   "source": [
    "features_train_val_downsampled, target_train_val_downsampled = downsample(features_train_val, target_train_val, 0.257)\n",
    "target_upsampled.value_counts(normalize=True)"
   ]
  },
  {
   "cell_type": "markdown",
   "metadata": {},
   "source": [
    "Now both classes are represented equally."
   ]
  },
  {
   "cell_type": "markdown",
   "metadata": {},
   "source": [
    "On a downsampled test sample, we'll select parameters for a random forest."
   ]
  },
  {
   "cell_type": "code",
   "execution_count": 45,
   "metadata": {
    "scrolled": false
   },
   "outputs": [
    {
     "name": "stdout",
     "output_type": "stream",
     "text": [
      "The best model: RandomForestClassifier(class_weight='balanced', max_depth=13, n_estimators=160,\n",
      "                       random_state=12345)\n",
      "\n",
      "F1 of the best model on validation sample: 0.623541887592789\n",
      "\n",
      "Confusion matrix:\n",
      "[[1143  304]\n",
      " [  77  294]]\n"
     ]
    },
    {
     "data": {
      "image/png": "[encoded data removed]",
      "text/plain": [
       "<Figure size 432x288 with 1 Axes>"
      ]
     },
     "metadata": {
      "needs_background": "light"
     },
     "output_type": "display_data"
    },
    {
     "name": "stdout",
     "output_type": "stream",
     "text": [
      "AUC-ROC on validation sample: 0.8786186496087267\n",
      "CPU times: total: 2min 37s\n",
      "Wall time: 2min 37s\n"
     ]
    }
   ],
   "source": [
    "%%time\n",
    "\n",
    "weights = ['balanced', None]\n",
    "\n",
    "rf_downsampled_model = None\n",
    "rf_downsampled_result = 0\n",
    "for est in range(100, 251, 10):\n",
    "    for depth in range(1, 31, 2):\n",
    "         for weight in weights:\n",
    "            model = RandomForestClassifier(random_state=12345,\n",
    "                                           class_weight=weight,\n",
    "                                           n_estimators=est,\n",
    "                                           max_depth=depth)\n",
    "            model.fit(features_downsampled, target_downsampled)\n",
    "            predicted_valid = model.predict(features_valid)\n",
    "            result = f1_score(target_valid, predicted_valid)\n",
    "            if result > rf_downsampled_result:\n",
    "                rf_downsampled_model = model\n",
    "                rf_downsampled_result = result\n",
    "\n",
    "probabilities_valid = rf_downsampled_model.predict_proba(features_valid)\n",
    "probabilities_one_valid = probabilities_valid[:, 1]\n",
    "\n",
    "fpr, tpr, thresholds = roc_curve(target_valid, probabilities_one_valid)\n",
    "auc_roc_valid = roc_auc_score(target_valid, probabilities_one_valid)\n",
    "\n",
    "print(\"The best model:\", rf_downsampled_model)\n",
    "print('')\n",
    "print(\"F1 of the best model on validation sample:\", rf_downsampled_result)\n",
    "print('')\n",
    "print('Confusion matrix:')\n",
    "print(confusion_matrix(target_valid, predicted_valid))\n",
    "\n",
    "plt.figure()\n",
    "plt.plot(fpr, tpr)\n",
    "plt.xlim([0.0, 1.0])\n",
    "plt.ylim([0.0, 1.0])\n",
    "plt.xlabel('False Positive Rate')\n",
    "plt.ylabel('True Positive Rate')\n",
    "plt.title('ROC-curve')\n",
    "plt.show()\n",
    "\n",
    "print('AUC-ROC on validation sample:', auc_roc_valid)"
   ]
  },
  {
   "cell_type": "markdown",
   "metadata": {},
   "source": [
    "On balanced sample by reduction, the sample failed to achieve an improvement in the results on the validation set.\n",
    "\n",
    "The model with the following parameters has the best result:  (class_weight='balanced', max_depth=13, n_estimators=160, random_state=12345)\n",
    "\n",
    "- F1: **0.624**\n",
    "- AUC-ROC: **0.879**\n",
    "\n",
    "Now let's try to select parameters using GridSearchCV."
   ]
  },
  {
   "cell_type": "code",
   "execution_count": 46,
   "metadata": {},
   "outputs": [],
   "source": [
    "rf_downsampled_clf = GridSearchCV(\n",
    "    estimator=rf,\n",
    "    param_grid=params,\n",
    "    cv=5,\n",
    "    scoring='f1'\n",
    ")"
   ]
  },
  {
   "cell_type": "code",
   "execution_count": 47,
   "metadata": {},
   "outputs": [
    {
     "name": "stdout",
     "output_type": "stream",
     "text": [
      "CPU times: total: 8min 3s\n",
      "Wall time: 8min 3s\n"
     ]
    },
    {
     "data": {
      "text/plain": [
       "GridSearchCV(cv=5, estimator=RandomForestClassifier(),\n",
       "             param_grid={'class_weight': ['balanced', None],\n",
       "                         'max_depth': [1, 3, 5, 7, 9, 11, 13, 15, 17, 19],\n",
       "                         'n_estimators': [100, 110, 120, 130, 140, 150, 160,\n",
       "                                          170, 180, 190, 200, 210, 220, 230,\n",
       "                                          240, 250],\n",
       "                         'random_state': [12345]},\n",
       "             scoring='f1')"
      ]
     },
     "execution_count": 47,
     "metadata": {},
     "output_type": "execute_result"
    }
   ],
   "source": [
    "%%time\n",
    "rf_downsampled_clf.fit(features_train_val_downsampled, target_train_val_downsampled)"
   ]
  },
  {
   "cell_type": "code",
   "execution_count": 48,
   "metadata": {},
   "outputs": [
    {
     "name": "stdout",
     "output_type": "stream",
     "text": [
      "RandomForestClassifier(max_depth=11, n_estimators=110, random_state=12345)\n",
      "F1 of the model: 0.7798260533363631\n"
     ]
    }
   ],
   "source": [
    "print(rf_downsampled_clf.best_estimator_)\n",
    "print(\"F1 of the model:\", rf_downsampled_clf.best_score_)"
   ]
  },
  {
   "cell_type": "markdown",
   "metadata": {},
   "source": [
    "On a balanced by reducing the sample, cross-validation managed to find hyperparameters on which we get the result **F1 - 0.780**"
   ]
  },
  {
   "cell_type": "markdown",
   "metadata": {},
   "source": [
    "### Balancing conclusion\n",
    "\n",
    "We tried to balance the sample using two methods: increasing the under-represented class (upsampling) and decreasing the more-represented class (downsampling).\n",
    "\n",
    "It was possible to achieve an improvement only when selecting hyperparameters using cross-validation.\n",
    "The best result on the test data was obtained using upsampling and GridSearchCV. **F1 - 0.958**"
   ]
  },
  {
   "cell_type": "markdown",
   "metadata": {},
   "source": [
    "### Changing the Classification Threshold\n",
    "\n",
    "Let's see if we can improve the results on the trained random forest models by changing the classification threshold."
   ]
  },
  {
   "cell_type": "code",
   "execution_count": 49,
   "metadata": {},
   "outputs": [
    {
     "name": "stdout",
     "output_type": "stream",
     "text": [
      "Threshold = 0.00 | Accuracy = 0.204, Recall = 1.000, F1 = 0.339\n",
      "Threshold = 0.02 | Accuracy = 0.204, Recall = 1.000, F1 = 0.339\n",
      "Threshold = 0.04 | Accuracy = 0.204, Recall = 1.000, F1 = 0.339\n",
      "Threshold = 0.06 | Accuracy = 0.206, Recall = 1.000, F1 = 0.341\n",
      "Threshold = 0.08 | Accuracy = 0.215, Recall = 0.997, F1 = 0.354\n",
      "Threshold = 0.10 | Accuracy = 0.228, Recall = 0.992, F1 = 0.371\n",
      "Threshold = 0.12 | Accuracy = 0.244, Recall = 0.989, F1 = 0.391\n",
      "Threshold = 0.14 | Accuracy = 0.258, Recall = 0.987, F1 = 0.409\n",
      "Threshold = 0.16 | Accuracy = 0.273, Recall = 0.987, F1 = 0.428\n",
      "Threshold = 0.18 | Accuracy = 0.285, Recall = 0.978, F1 = 0.442\n",
      "Threshold = 0.20 | Accuracy = 0.299, Recall = 0.962, F1 = 0.456\n",
      "Threshold = 0.22 | Accuracy = 0.313, Recall = 0.949, F1 = 0.471\n",
      "Threshold = 0.24 | Accuracy = 0.330, Recall = 0.930, F1 = 0.487\n",
      "Threshold = 0.26 | Accuracy = 0.349, Recall = 0.922, F1 = 0.506\n",
      "Threshold = 0.28 | Accuracy = 0.371, Recall = 0.908, F1 = 0.527\n",
      "Threshold = 0.30 | Accuracy = 0.393, Recall = 0.884, F1 = 0.544\n",
      "Threshold = 0.32 | Accuracy = 0.416, Recall = 0.871, F1 = 0.563\n",
      "Threshold = 0.34 | Accuracy = 0.431, Recall = 0.857, F1 = 0.573\n",
      "Threshold = 0.36 | Accuracy = 0.458, Recall = 0.844, F1 = 0.593\n",
      "Threshold = 0.38 | Accuracy = 0.477, Recall = 0.814, F1 = 0.602\n",
      "Threshold = 0.40 | Accuracy = 0.495, Recall = 0.787, F1 = 0.608\n",
      "Threshold = 0.42 | Accuracy = 0.514, Recall = 0.765, F1 = 0.615\n",
      "Threshold = 0.44 | Accuracy = 0.544, Recall = 0.747, F1 = 0.630\n",
      "Threshold = 0.46 | Accuracy = 0.567, Recall = 0.717, F1 = 0.633\n",
      "Threshold = 0.48 | Accuracy = 0.594, Recall = 0.709, F1 = 0.646\n",
      "Threshold = 0.50 | Accuracy = 0.624, Recall = 0.690, F1 = 0.656\n",
      "Threshold = 0.52 | Accuracy = 0.637, Recall = 0.663, F1 = 0.650\n",
      "Threshold = 0.54 | Accuracy = 0.643, Recall = 0.642, F1 = 0.642\n",
      "Threshold = 0.56 | Accuracy = 0.662, Recall = 0.606, F1 = 0.633\n",
      "Threshold = 0.58 | Accuracy = 0.688, Recall = 0.577, F1 = 0.628\n",
      "Threshold = 0.60 | Accuracy = 0.693, Recall = 0.542, F1 = 0.608\n",
      "Threshold = 0.62 | Accuracy = 0.715, Recall = 0.515, F1 = 0.599\n",
      "Threshold = 0.64 | Accuracy = 0.739, Recall = 0.488, F1 = 0.588\n",
      "Threshold = 0.66 | Accuracy = 0.755, Recall = 0.474, F1 = 0.583\n",
      "Threshold = 0.68 | Accuracy = 0.778, Recall = 0.445, F1 = 0.566\n",
      "Threshold = 0.70 | Accuracy = 0.800, Recall = 0.420, F1 = 0.551\n",
      "Threshold = 0.72 | Accuracy = 0.806, Recall = 0.380, F1 = 0.516\n",
      "Threshold = 0.74 | Accuracy = 0.826, Recall = 0.358, F1 = 0.500\n",
      "Threshold = 0.76 | Accuracy = 0.833, Recall = 0.337, F1 = 0.480\n",
      "Threshold = 0.78 | Accuracy = 0.843, Recall = 0.305, F1 = 0.448\n"
     ]
    }
   ],
   "source": [
    "probabilities_valid = rf_model.predict_proba(features_valid)\n",
    "probabilities_one_valid = probabilities_valid[:, 1]\n",
    "\n",
    "for threshold in np.arange(0, 0.8, 0.02):\n",
    "    predicted_valid = probabilities_one_valid > threshold \n",
    "    precision = precision_score(target_valid, predicted_valid)\n",
    "    recall = recall_score(target_valid, predicted_valid)\n",
    "    f1 = f1_score(target_valid, predicted_valid)\n",
    "\n",
    "    print(\"Threshold = {:.2f} | Accuracy = {:.3f}, Recall = {:.3f}, F1 = {:.3f}\".format(\n",
    "        threshold, precision, recall, f1))"
   ]
  },
  {
   "cell_type": "markdown",
   "metadata": {},
   "source": [
    "On a model with an imbalance, the standard threshold of 0.5 shows the best results, **F1 - 0.656**"
   ]
  },
  {
   "cell_type": "code",
   "execution_count": 50,
   "metadata": {},
   "outputs": [
    {
     "name": "stdout",
     "output_type": "stream",
     "text": [
      "Threshold = 0.00 | Accuracy = 0.204, Recall = 1.000, F1 = 0.339\n",
      "Threshold = 0.02 | Accuracy = 0.204, Recall = 1.000, F1 = 0.339\n",
      "Threshold = 0.04 | Accuracy = 0.207, Recall = 1.000, F1 = 0.343\n",
      "Threshold = 0.06 | Accuracy = 0.220, Recall = 0.995, F1 = 0.360\n",
      "Threshold = 0.08 | Accuracy = 0.233, Recall = 0.995, F1 = 0.377\n",
      "Threshold = 0.10 | Accuracy = 0.247, Recall = 0.992, F1 = 0.396\n",
      "Threshold = 0.12 | Accuracy = 0.264, Recall = 0.989, F1 = 0.417\n",
      "Threshold = 0.14 | Accuracy = 0.275, Recall = 0.981, F1 = 0.429\n",
      "Threshold = 0.16 | Accuracy = 0.288, Recall = 0.970, F1 = 0.444\n",
      "Threshold = 0.18 | Accuracy = 0.297, Recall = 0.951, F1 = 0.452\n",
      "Threshold = 0.20 | Accuracy = 0.309, Recall = 0.943, F1 = 0.466\n",
      "Threshold = 0.22 | Accuracy = 0.327, Recall = 0.935, F1 = 0.484\n",
      "Threshold = 0.24 | Accuracy = 0.342, Recall = 0.925, F1 = 0.499\n",
      "Threshold = 0.26 | Accuracy = 0.363, Recall = 0.900, F1 = 0.517\n",
      "Threshold = 0.28 | Accuracy = 0.387, Recall = 0.881, F1 = 0.537\n",
      "Threshold = 0.30 | Accuracy = 0.404, Recall = 0.865, F1 = 0.551\n",
      "Threshold = 0.32 | Accuracy = 0.421, Recall = 0.857, F1 = 0.564\n",
      "Threshold = 0.34 | Accuracy = 0.436, Recall = 0.838, F1 = 0.574\n",
      "Threshold = 0.36 | Accuracy = 0.458, Recall = 0.819, F1 = 0.587\n",
      "Threshold = 0.38 | Accuracy = 0.477, Recall = 0.795, F1 = 0.597\n",
      "Threshold = 0.40 | Accuracy = 0.498, Recall = 0.784, F1 = 0.609\n",
      "Threshold = 0.42 | Accuracy = 0.520, Recall = 0.768, F1 = 0.620\n",
      "Threshold = 0.44 | Accuracy = 0.534, Recall = 0.741, F1 = 0.621\n",
      "Threshold = 0.46 | Accuracy = 0.554, Recall = 0.714, F1 = 0.624\n",
      "Threshold = 0.48 | Accuracy = 0.586, Recall = 0.698, F1 = 0.637\n",
      "Threshold = 0.50 | Accuracy = 0.612, Recall = 0.685, F1 = 0.646\n",
      "Threshold = 0.52 | Accuracy = 0.631, Recall = 0.650, F1 = 0.640\n",
      "Threshold = 0.54 | Accuracy = 0.644, Recall = 0.625, F1 = 0.635\n",
      "Threshold = 0.56 | Accuracy = 0.662, Recall = 0.601, F1 = 0.630\n",
      "Threshold = 0.58 | Accuracy = 0.672, Recall = 0.580, F1 = 0.622\n",
      "Threshold = 0.60 | Accuracy = 0.691, Recall = 0.561, F1 = 0.619\n",
      "Threshold = 0.62 | Accuracy = 0.704, Recall = 0.544, F1 = 0.614\n",
      "Threshold = 0.64 | Accuracy = 0.730, Recall = 0.526, F1 = 0.611\n",
      "Threshold = 0.66 | Accuracy = 0.742, Recall = 0.504, F1 = 0.600\n",
      "Threshold = 0.68 | Accuracy = 0.775, Recall = 0.474, F1 = 0.589\n",
      "Threshold = 0.70 | Accuracy = 0.784, Recall = 0.431, F1 = 0.557\n",
      "Threshold = 0.72 | Accuracy = 0.796, Recall = 0.399, F1 = 0.531\n",
      "Threshold = 0.74 | Accuracy = 0.815, Recall = 0.380, F1 = 0.518\n",
      "Threshold = 0.76 | Accuracy = 0.840, Recall = 0.369, F1 = 0.513\n",
      "Threshold = 0.78 | Accuracy = 0.850, Recall = 0.350, F1 = 0.496\n"
     ]
    }
   ],
   "source": [
    "probabilities_valid = rf_upsampled_model.predict_proba(features_valid)\n",
    "probabilities_one_valid = probabilities_valid[:, 1]\n",
    "\n",
    "for threshold in np.arange(0, 0.8, 0.02):\n",
    "    predicted_valid = probabilities_one_valid > threshold \n",
    "    precision = precision_score(target_valid, predicted_valid)\n",
    "    recall = recall_score(target_valid, predicted_valid)\n",
    "    f1 = f1_score(target_valid, predicted_valid)\n",
    "\n",
    "    print(\"Threshold = {:.2f} | Accuracy = {:.3f}, Recall = {:.3f}, F1 = {:.3f}\".format(\n",
    "        threshold, precision, recall, f1))"
   ]
  },
  {
   "cell_type": "markdown",
   "metadata": {},
   "source": [
    "On a larger sample, the best result is also with a standard threshold of 0.5, **F1 - 0.646**"
   ]
  },
  {
   "cell_type": "code",
   "execution_count": 51,
   "metadata": {},
   "outputs": [
    {
     "name": "stdout",
     "output_type": "stream",
     "text": [
      "Threshold = 0.00 | Accuracy = 0.204, Recall = 1.000, F1 = 0.339\n",
      "Threshold = 0.02 | Accuracy = 0.204, Recall = 1.000, F1 = 0.339\n",
      "Threshold = 0.04 | Accuracy = 0.207, Recall = 1.000, F1 = 0.344\n",
      "Threshold = 0.06 | Accuracy = 0.215, Recall = 1.000, F1 = 0.354\n",
      "Threshold = 0.08 | Accuracy = 0.223, Recall = 0.997, F1 = 0.365\n",
      "Threshold = 0.10 | Accuracy = 0.230, Recall = 0.992, F1 = 0.374\n",
      "Threshold = 0.12 | Accuracy = 0.240, Recall = 0.992, F1 = 0.386\n",
      "Threshold = 0.14 | Accuracy = 0.250, Recall = 0.992, F1 = 0.399\n",
      "Threshold = 0.16 | Accuracy = 0.258, Recall = 0.987, F1 = 0.408\n",
      "Threshold = 0.18 | Accuracy = 0.265, Recall = 0.987, F1 = 0.418\n",
      "Threshold = 0.20 | Accuracy = 0.273, Recall = 0.981, F1 = 0.427\n",
      "Threshold = 0.22 | Accuracy = 0.283, Recall = 0.978, F1 = 0.439\n",
      "Threshold = 0.24 | Accuracy = 0.293, Recall = 0.973, F1 = 0.450\n",
      "Threshold = 0.26 | Accuracy = 0.305, Recall = 0.960, F1 = 0.463\n",
      "Threshold = 0.28 | Accuracy = 0.316, Recall = 0.943, F1 = 0.473\n",
      "Threshold = 0.30 | Accuracy = 0.328, Recall = 0.935, F1 = 0.486\n",
      "Threshold = 0.32 | Accuracy = 0.344, Recall = 0.925, F1 = 0.501\n",
      "Threshold = 0.34 | Accuracy = 0.360, Recall = 0.919, F1 = 0.518\n",
      "Threshold = 0.36 | Accuracy = 0.375, Recall = 0.914, F1 = 0.532\n",
      "Threshold = 0.38 | Accuracy = 0.385, Recall = 0.887, F1 = 0.537\n",
      "Threshold = 0.40 | Accuracy = 0.403, Recall = 0.879, F1 = 0.553\n",
      "Threshold = 0.42 | Accuracy = 0.418, Recall = 0.863, F1 = 0.563\n",
      "Threshold = 0.44 | Accuracy = 0.438, Recall = 0.841, F1 = 0.576\n",
      "Threshold = 0.46 | Accuracy = 0.459, Recall = 0.825, F1 = 0.590\n",
      "Threshold = 0.48 | Accuracy = 0.483, Recall = 0.806, F1 = 0.604\n",
      "Threshold = 0.50 | Accuracy = 0.514, Recall = 0.792, F1 = 0.624\n",
      "Threshold = 0.52 | Accuracy = 0.540, Recall = 0.776, F1 = 0.637\n",
      "Threshold = 0.54 | Accuracy = 0.567, Recall = 0.749, F1 = 0.646\n",
      "Threshold = 0.56 | Accuracy = 0.574, Recall = 0.728, F1 = 0.642\n",
      "Threshold = 0.58 | Accuracy = 0.589, Recall = 0.712, F1 = 0.645\n",
      "Threshold = 0.60 | Accuracy = 0.605, Recall = 0.682, F1 = 0.641\n",
      "Threshold = 0.62 | Accuracy = 0.638, Recall = 0.668, F1 = 0.653\n",
      "Threshold = 0.64 | Accuracy = 0.648, Recall = 0.650, F1 = 0.649\n",
      "Threshold = 0.66 | Accuracy = 0.681, Recall = 0.639, F1 = 0.659\n",
      "Threshold = 0.68 | Accuracy = 0.697, Recall = 0.606, F1 = 0.648\n",
      "Threshold = 0.70 | Accuracy = 0.707, Recall = 0.585, F1 = 0.640\n",
      "Threshold = 0.72 | Accuracy = 0.724, Recall = 0.558, F1 = 0.630\n",
      "Threshold = 0.74 | Accuracy = 0.745, Recall = 0.520, F1 = 0.613\n",
      "Threshold = 0.76 | Accuracy = 0.773, Recall = 0.496, F1 = 0.604\n",
      "Threshold = 0.78 | Accuracy = 0.786, Recall = 0.466, F1 = 0.585\n"
     ]
    }
   ],
   "source": [
    "probabilities_valid = rf_downsampled_model.predict_proba(features_valid)\n",
    "probabilities_one_valid = probabilities_valid[:, 1]\n",
    "\n",
    "for threshold in np.arange(0, 0.8, 0.02):\n",
    "    predicted_valid = probabilities_one_valid > threshold \n",
    "    precision = precision_score(target_valid, predicted_valid)\n",
    "    recall = recall_score(target_valid, predicted_valid)\n",
    "    f1 = f1_score(target_valid, predicted_valid)\n",
    "\n",
    "    print(\"Threshold = {:.2f} | Accuracy = {:.3f}, Recall = {:.3f}, F1 = {:.3f}\".format(\n",
    "        threshold, precision, recall, f1))"
   ]
  },
  {
   "cell_type": "markdown",
   "metadata": {},
   "source": [
    "On a reduced sample, the best result with a threshold of 0.66, **F1 - 0.659**"
   ]
  },
  {
   "cell_type": "markdown",
   "metadata": {},
   "source": [
    "### Balancing conclusions (part 2)\n",
    "\n",
    "The best model after balancing turned out to be Random Forest trained on data processed by sample increase and hyperparameters matched using cross-validation.\n",
    "\n",
    "We also tested downsampling and changing the classification thresholds, these techniques did not give a significant improvement in results compared to an unbalanced sample."
   ]
  },
  {
   "cell_type": "markdown",
   "metadata": {},
   "source": [
    "## Model testing"
   ]
  },
  {
   "cell_type": "markdown",
   "metadata": {},
   "source": [
    "We've chose the following model: ``RandomForestClassifier(class_weight='balanced', max_depth=19, n_estimators=120, random_state=12345)`` trained with the help of GridSearchCV on 80% of the original data and balanced using the **upsamling** technique, we allocated the remaining 20% for the test sample, which we will now use."
   ]
  },
  {
   "cell_type": "code",
   "execution_count": 52,
   "metadata": {
    "scrolled": false
   },
   "outputs": [
    {
     "name": "stdout",
     "output_type": "stream",
     "text": [
      "Accuracy on test sample: 0.8521165475536009\n",
      "F1 on test sample: 0.6072992700729928\n",
      "\n",
      "Confusion matrix:\n",
      "[[1342  106]\n",
      " [ 163  208]]\n"
     ]
    },
    {
     "data": {
      "image/png": "[encoded data removed]",
      "text/plain": [
       "<Figure size 432x288 with 1 Axes>"
      ]
     },
     "metadata": {
      "needs_background": "light"
     },
     "output_type": "display_data"
    },
    {
     "name": "stdout",
     "output_type": "stream",
     "text": [
      "AUC-ROC on test sample: 0.8410327098628464\n"
     ]
    }
   ],
   "source": [
    "predicted_test = rf_upsampled_clf.predict(features_test)\n",
    "\n",
    "\n",
    "probabilities_test = rf_upsampled_clf.predict_proba(features_test)\n",
    "probabilities_one_test = probabilities_test[:, 1]\n",
    "\n",
    "fpr, tpr, thresholds = roc_curve(target_test, probabilities_one_test)\n",
    "auc_roc_test = roc_auc_score(target_test, probabilities_one_test)\n",
    "\n",
    "print('Accuracy on test sample:', accuracy_score(target_test, predicted_test))\n",
    "print('F1 on test sample:', f1_score(target_test, predicted_test))\n",
    "print('')\n",
    "print('Confusion matrix:')\n",
    "print(confusion_matrix(target_test, predicted_test))\n",
    "\n",
    "plt.figure()\n",
    "plt.plot(fpr, tpr)\n",
    "plt.xlim([0.0, 1.0])\n",
    "plt.ylim([0.0, 1.0])\n",
    "plt.xlabel('False Positive Rate')\n",
    "plt.ylabel('True Positive Rate')\n",
    "plt.title('ROC-curve')\n",
    "plt.show()\n",
    "\n",
    "print('AUC-ROC on test sample:', auc_roc_test)"
   ]
  },
  {
   "cell_type": "markdown",
   "metadata": {},
   "source": [
    "On the test sample, the following results were obtained:\n",
    "\n",
    "- F1:  **0.607**\n",
    "- AUC-ROC: **0.841**\n",
    "- Accuracy: **0.852**\n",
    "\n",
    "Let's compare it with the \"dummy\" model."
   ]
  },
  {
   "cell_type": "code",
   "execution_count": 53,
   "metadata": {},
   "outputs": [
    {
     "name": "stdout",
     "output_type": "stream",
     "text": [
      "Accuracy: 0.7960417811984607\n",
      "F1: 0.0\n",
      "Confusion matrix:\n",
      "[[1448    0]\n",
      " [ 371    0]]\n"
     ]
    },
    {
     "data": {
      "image/png": "[encoded data removed]",
      "text/plain": [
       "<Figure size 432x288 with 1 Axes>"
      ]
     },
     "metadata": {
      "needs_background": "light"
     },
     "output_type": "display_data"
    },
    {
     "name": "stdout",
     "output_type": "stream",
     "text": [
      "AUC-ROC on test sample: 0.5\n"
     ]
    }
   ],
   "source": [
    "dummy = DummyClassifier(random_state=12345, strategy=\"most_frequent\")\n",
    "dummy.fit(features_train, target_train)\n",
    "\n",
    "dummy_predicted_test = dummy.predict(features_test)\n",
    "\n",
    "probabilities_test = dummy.predict_proba(features_test)\n",
    "probabilities_one_test = probabilities_test[:, 1]\n",
    "\n",
    "fpr, tpr, thresholds = roc_curve(target_test, probabilities_one_test)\n",
    "auc_roc_test = roc_auc_score(target_test, probabilities_one_test)\n",
    "\n",
    "print('Accuracy:', dummy.score(features_test, target_test))\n",
    "print('F1:', f1_score(target_test, dummy_predicted_test))\n",
    "print('Confusion matrix:')\n",
    "print(confusion_matrix(target_test, dummy_predicted_test))\n",
    "\n",
    "plt.figure()\n",
    "plt.plot(fpr, tpr)\n",
    "plt.xlim([0.0, 1.0])\n",
    "plt.ylim([0.0, 1.0])\n",
    "plt.xlabel('False Positive Rate')\n",
    "plt.ylabel('True Positive Rate')\n",
    "plt.title('ROC-curve')\n",
    "plt.show()\n",
    "\n",
    "print('AUC-ROC on test sample:', auc_roc_test)"
   ]
  },
  {
   "cell_type": "markdown",
   "metadata": {},
   "source": [
    "The results obtained using the selected model on the test sample suit us."
   ]
  },
  {
   "cell_type": "markdown",
   "metadata": {},
   "source": [
    "## Conclusions\n",
    "\n",
    "We were faced with the task of classifying with a known target. We examined the received data: processed it, removed unnecessary data, divided it into samples necessary for training and testing the model. In the course of the study, an imbalance of the target was found, and we checked how the models would learn without taking into account this imbalance.\n",
    "\n",
    "The following models were tested: Logistic Regression, Decision Tree, Random Forest. During testing, we settled on using a random forest, the other models showed significantly worse results. The selection of optimal hyperparameters was approached in two ways: enumeration using cycles and cross-validation GridSearchCV. On unbalanced data, the results obtained by these two methods were similar.\n",
    "\n",
    "After that, we started balancing. Tried balancing with two techniques: Upsampling and Downsampling. We also tried to change the classification threshold, but this method did not achieve the best results. We settled on a model trained on an upsampling sample using cross-validation. We managed to achieve the following results on the test sample:\n",
    "\n",
    "- F1:  **0.607**\n",
    "- AUC-ROC: **0.841**\n",
    "- Accuracy: **0.852**\n",
    "\n",
    "The model was checked for adequacy by comparing it with a \"dummy\" model that predicts only the most common feature in the model training process. Our model has been tested.\n",
    "\n",
    "Our model can confidently correctly predict the termination of a customer's agreement with a bank."
   ]
  }
 ],
 "metadata": {
  "kernelspec": {
   "display_name": "Python 3 (ipykernel)",
   "language": "python",
   "name": "python3"
  },
  "language_info": {
   "codemirror_mode": {
    "name": "ipython",
    "version": 3
   },
   "file_extension": ".py",
   "mimetype": "text/x-python",
   "name": "python",
   "nbconvert_exporter": "python",
   "pygments_lexer": "ipython3",
   "version": "3.9.13"
  },
  "toc": {
   "base_numbering": 1,
   "nav_menu": {},
   "number_sections": true,
   "sideBar": true,
   "skip_h1_title": true,
   "title_cell": "Содержание",
   "title_sidebar": "Contents",
   "toc_cell": true,
   "toc_position": {
    "height": "calc(100% - 180px)",
    "left": "10px",
    "top": "150px",
    "width": "165px"
   },
   "toc_section_display": true,
   "toc_window_display": true
  }
 },
 "nbformat": 4,
 "nbformat_minor": 2
}
